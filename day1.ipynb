{
  "nbformat": 4,
  "nbformat_minor": 0,
  "metadata": {
    "colab": {
      "provenance": []
    },
    "kernelspec": {
      "name": "python3",
      "display_name": "Python 3"
    },
    "language_info": {
      "name": "python"
    }
  },
  "cells": [
    {
      "cell_type": "markdown",
      "source": [],
      "metadata": {
        "id": "s8S6sDdiAMGK"
      }
    },
    {
      "cell_type": "code",
      "execution_count": null,
      "metadata": {
        "id": "-cUErJykxNh5"
      },
      "outputs": [],
      "source": [
        "Date--- 30/7/2025"
      ]
    },
    {
      "cell_type": "code",
      "source": [
        "name=\"renuka\"\n",
        "degree=\"BCA\"\n",
        "print(\"this is my name\",name,\" and My degree is\",degree )\n",
        "print(name)\n",
        "print(degree)\n",
        "print(\"Hello World\")\n",
        "x,y=5,10.5\n",
        "print(x)\n",
        "print(y)\n",
        "print(type(x))"
      ],
      "metadata": {
        "colab": {
          "base_uri": "https://localhost:8080/"
        },
        "id": "nk3Is8DX-Anq",
        "outputId": "6a6b366f-1023-4aa1-a4c0-874dd2aab213"
      },
      "execution_count": null,
      "outputs": [
        {
          "output_type": "stream",
          "name": "stdout",
          "text": [
            "this is my name renuka  and My degree is BCA\n",
            "renuka\n",
            "BCA\n",
            "Hello World\n",
            "5\n",
            "10.5\n",
            "<class 'int'>\n"
          ]
        }
      ]
    },
    {
      "cell_type": "markdown",
      "source": [
        "Basic syntax rules"
      ],
      "metadata": {
        "id": "oGxi8oA1HMI8"
      }
    },
    {
      "cell_type": "markdown",
      "source": [
        "python is case sensitive"
      ],
      "metadata": {
        "id": "pRGpyuKaIAcj"
      }
    },
    {
      "cell_type": "code",
      "source": [
        "Name=\"renuu\"\n",
        "name=\"reenu\"\n",
        "print(Name,name)"
      ],
      "metadata": {
        "colab": {
          "base_uri": "https://localhost:8080/"
        },
        "id": "3rUai9WrIEZz",
        "outputId": "3cd82e7c-56ce-496c-df58-763fc44612a4"
      },
      "execution_count": null,
      "outputs": [
        {
          "output_type": "stream",
          "name": "stdout",
          "text": [
            "renuu reenu\n"
          ]
        }
      ]
    },
    {
      "cell_type": "code",
      "source": [],
      "metadata": {
        "id": "iJK55aPnH7k8"
      },
      "execution_count": null,
      "outputs": []
    },
    {
      "cell_type": "markdown",
      "source": [
        "indentation matters"
      ],
      "metadata": {
        "id": "fojLb4d1IgM0"
      }
    },
    {
      "cell_type": "code",
      "source": [
        "if x > 0:\n",
        "  print(\"x is positive\")\n",
        "  print(\"inside if block\")"
      ],
      "metadata": {
        "colab": {
          "base_uri": "https://localhost:8080/"
        },
        "id": "n5fxriSeIlRs",
        "outputId": "5ad233cf-9c6c-45a7-8297-3f05e9bf1e3b"
      },
      "execution_count": null,
      "outputs": [
        {
          "output_type": "stream",
          "name": "stdout",
          "text": [
            "x is positive\n",
            "inside if block\n"
          ]
        }
      ]
    },
    {
      "cell_type": "markdown",
      "source": [
        "Variables and Datatypes"
      ],
      "metadata": {
        "id": "l3ozDy2wJGkU"
      }
    },
    {
      "cell_type": "code",
      "source": [],
      "metadata": {
        "id": "Zs4qu0QkJLqb"
      },
      "execution_count": null,
      "outputs": []
    },
    {
      "cell_type": "markdown",
      "source": [
        "Numeric type"
      ],
      "metadata": {
        "id": "BPTwfqmhJNIU"
      }
    },
    {
      "cell_type": "code",
      "source": [
        "age=20\n",
        "height=5.5\n",
        "complex_no=3 + 4j"
      ],
      "metadata": {
        "id": "T_L0ZXzmJPpT"
      },
      "execution_count": null,
      "outputs": []
    },
    {
      "cell_type": "markdown",
      "source": [
        "String type"
      ],
      "metadata": {
        "id": "jFlCoHM1JhY7"
      }
    },
    {
      "cell_type": "code",
      "source": [
        "name=\"Alice\"\n",
        "message=\"Good Evening\"\n",
        "multiline=\"\"\"this is my pen\"\"\""
      ],
      "metadata": {
        "id": "6hw4EoJRJkDk"
      },
      "execution_count": null,
      "outputs": []
    },
    {
      "cell_type": "markdown",
      "source": [
        "Boolean type"
      ],
      "metadata": {
        "id": "T21xf7kxNA-c"
      }
    },
    {
      "cell_type": "code",
      "source": [
        "is_active=True\n",
        "is_finished=False"
      ],
      "metadata": {
        "id": "0GVfQzloNEPs"
      },
      "execution_count": null,
      "outputs": []
    },
    {
      "cell_type": "markdown",
      "source": [
        "Type checking"
      ],
      "metadata": {
        "id": "GiIpXo0jNPIL"
      }
    },
    {
      "cell_type": "code",
      "source": [
        "print(type(age))\n",
        "print(type(height))"
      ],
      "metadata": {
        "colab": {
          "base_uri": "https://localhost:8080/"
        },
        "id": "5dGqWf5wNTwr",
        "outputId": "1a04efa2-7458-416e-ff23-50d2f7d52aac"
      },
      "execution_count": null,
      "outputs": [
        {
          "output_type": "stream",
          "name": "stdout",
          "text": [
            "<class 'int'>\n",
            "<class 'float'>\n"
          ]
        }
      ]
    },
    {
      "cell_type": "markdown",
      "source": [
        "Type conversion"
      ],
      "metadata": {
        "id": "5dXOuRLQODvc"
      }
    },
    {
      "cell_type": "markdown",
      "source": [],
      "metadata": {
        "id": "KgtFdMlsJ5JL"
      }
    },
    {
      "cell_type": "code",
      "source": [
        "str_number=\"123\"\n",
        "int_number=int(str_number)\n",
        "float_number=float(str_number)\n",
        "print(f\"original: {str_number} (type: {type(str_number)})\")\n",
        "print(f\"integer: {int_number} (type: {type(int_number)})\")\n",
        "print(f\"float: {float_number} (type: {type(float_number)})\")"
      ],
      "metadata": {
        "colab": {
          "base_uri": "https://localhost:8080/"
        },
        "id": "wRuNja5dOGhU",
        "outputId": "d9cc880e-8b77-4ff4-e837-7c0b1127b80b"
      },
      "execution_count": null,
      "outputs": [
        {
          "output_type": "stream",
          "name": "stdout",
          "text": [
            "original: 123 (type: <class 'str'>)\n",
            "integer: 123 (type: <class 'int'>)\n",
            "float: 123.0 (type: <class 'float'>)\n"
          ]
        }
      ]
    },
    {
      "cell_type": "markdown",
      "source": [],
      "metadata": {
        "id": "pgSi8lQmPXTT"
      }
    },
    {
      "cell_type": "markdown",
      "source": [
        "Personal information"
      ],
      "metadata": {
        "id": "Er6qZ85Bht3t"
      }
    },
    {
      "cell_type": "code",
      "source": [
        "first_name= \"Renuka\"\n",
        "last_name= \"Mattikoti\"\n",
        "age=20\n",
        "height=5.5\n",
        "is_student=True"
      ],
      "metadata": {
        "id": "EG48isibhy9N"
      },
      "execution_count": null,
      "outputs": []
    },
    {
      "cell_type": "markdown",
      "source": [
        "print formatted information"
      ],
      "metadata": {
        "id": "NURZQcyPiLs0"
      }
    },
    {
      "cell_type": "code",
      "source": [
        "print(f\"Name: {first_name} {last_name}\")\n",
        "print(f\"Age: {age}\")\n",
        "print(f\"Height: {height} feet\")\n",
        "print(f\"Student: {is_student}\")"
      ],
      "metadata": {
        "colab": {
          "base_uri": "https://localhost:8080/"
        },
        "id": "WNnQdPLNiPD1",
        "outputId": "af2c650d-1e86-4f0d-f051-b88ea672f803"
      },
      "execution_count": null,
      "outputs": [
        {
          "output_type": "stream",
          "name": "stdout",
          "text": [
            "Name: Renuka Mattikoti\n",
            "Age: 20\n",
            "Height: 5.5 feet\n",
            "Student: True\n"
          ]
        }
      ]
    },
    {
      "cell_type": "markdown",
      "source": [
        "Type conversions"
      ],
      "metadata": {
        "id": "ea9mnN-ejnSl"
      }
    },
    {
      "cell_type": "code",
      "source": [
        "age_str = str(age)\n",
        "height_int = int(height)\n",
        "print(f\"Age as string: {age_str}\")\n",
        "print(f\"Height as integer: {height_int}\")"
      ],
      "metadata": {
        "colab": {
          "base_uri": "https://localhost:8080/"
        },
        "id": "oDVnZMAKjqmN",
        "outputId": "089e9103-f42e-47e6-cced-a5d8e0ddf72c"
      },
      "execution_count": null,
      "outputs": [
        {
          "output_type": "stream",
          "name": "stdout",
          "text": [
            "Age as string: 20\n",
            "Height as integer: 5\n"
          ]
        }
      ]
    },
    {
      "cell_type": "markdown",
      "source": [
        "Operators and Basic Operations"
      ],
      "metadata": {
        "id": "CijOa4V8kS2F"
      }
    },
    {
      "cell_type": "markdown",
      "source": [
        "Arithmetic Operators"
      ],
      "metadata": {
        "id": "vK8W1-a5mLYt"
      }
    },
    {
      "cell_type": "code",
      "source": [
        "a=10\n",
        "b=3\n",
        "print(\"addition:\",(a+b))\n",
        "print(\"subtraction:\",(a-b))\n",
        "print(\"multiplication:\",(a*b))\n",
        "print(\"division:\",(a/b))\n",
        "print(\"floor division:\",(a//b))\n",
        "print(\"modulus:\",(a%b))\n",
        "print(\"exponentiation:\",(a**b))"
      ],
      "metadata": {
        "colab": {
          "base_uri": "https://localhost:8080/"
        },
        "id": "A3xtRqiomRf9",
        "outputId": "94f52849-4865-4857-cafa-b655a0af4c9c"
      },
      "execution_count": null,
      "outputs": [
        {
          "output_type": "stream",
          "name": "stdout",
          "text": [
            "addition: 13\n",
            "subtraction: 7\n",
            "multiplication: 30\n",
            "division: 3.3333333333333335\n",
            "floor division: 3\n",
            "modulus: 1\n",
            "exponentiation: 1000\n"
          ]
        }
      ]
    },
    {
      "cell_type": "markdown",
      "source": [
        "Order of Operations(PEMDAS)\n",
        "- P-Parenthesis\n",
        "- E-Exponents\n",
        "- M-Multipication\n",
        "- D-Division\n",
        "- A-Addition\n",
        "- S-Subtraction"
      ],
      "metadata": {
        "id": "CqUCl1x3noem"
      }
    },
    {
      "cell_type": "code",
      "source": [
        "result =2 + 3 * 4 ** 2 - 1\n",
        "print(f\"2 + 3 * 4 ** 2 - 1 ={result}\")"
      ],
      "metadata": {
        "colab": {
          "base_uri": "https://localhost:8080/"
        },
        "id": "aw_02k7Eoqt2",
        "outputId": "d0f59c2c-fb57-423a-febf-7cd77ff66fe1"
      },
      "execution_count": null,
      "outputs": [
        {
          "output_type": "stream",
          "name": "stdout",
          "text": [
            "2 + 3 * 4 ** 2 - 1 =49\n"
          ]
        }
      ]
    },
    {
      "cell_type": "code",
      "source": [],
      "metadata": {
        "id": "gYsCyxJ0kY-N"
      },
      "execution_count": null,
      "outputs": []
    },
    {
      "cell_type": "markdown",
      "source": [
        "Relational Operators or Comparision"
      ],
      "metadata": {
        "id": "vJaXsaBatD7u"
      }
    },
    {
      "cell_type": "code",
      "source": [
        "x=5\n",
        "y=10\n",
        "print( x== y) #equal to\n",
        "print(x != y) #not equal to\n",
        "print(x > y) #less than\n",
        "print(x < y)\n",
        "print(x >= y)\n",
        "print(x <= y)"
      ],
      "metadata": {
        "colab": {
          "base_uri": "https://localhost:8080/"
        },
        "id": "Pz540hYDtMEu",
        "outputId": "20cccb02-c392-44d0-9367-c67c656baaaf"
      },
      "execution_count": null,
      "outputs": [
        {
          "output_type": "stream",
          "name": "stdout",
          "text": [
            "False\n",
            "True\n",
            "False\n",
            "True\n",
            "False\n",
            "True\n"
          ]
        }
      ]
    },
    {
      "cell_type": "markdown",
      "source": [
        "String comparision"
      ],
      "metadata": {
        "id": "qavWHP41urfm"
      }
    },
    {
      "cell_type": "code",
      "source": [
        "name1 = \"Alice\"\n",
        "name2 = \"Bob\"\n",
        "print(f\"'{name1}' < '{name2}':{name1 < name2}\")"
      ],
      "metadata": {
        "colab": {
          "base_uri": "https://localhost:8080/"
        },
        "id": "IrQ_gq4muuz-",
        "outputId": "d06ba791-5614-4606-fde8-c70a1262193b"
      },
      "execution_count": null,
      "outputs": [
        {
          "output_type": "stream",
          "name": "stdout",
          "text": [
            "'Alice' < 'Bob':True\n"
          ]
        }
      ]
    },
    {
      "cell_type": "markdown",
      "source": [
        "Logical Operators"
      ],
      "metadata": {
        "id": "MIaYPxzdvTY2"
      }
    },
    {
      "cell_type": "code",
      "source": [
        "p = True\n",
        "q = False\n",
        "print(p and q)\n",
        "print(p or q)\n",
        "print(not p)"
      ],
      "metadata": {
        "colab": {
          "base_uri": "https://localhost:8080/"
        },
        "id": "7ZSey5QpvXE2",
        "outputId": "e87332bf-7404-4f6a-dba8-26c4e5ce74e0"
      },
      "execution_count": null,
      "outputs": [
        {
          "output_type": "stream",
          "name": "stdout",
          "text": [
            "False\n",
            "True\n",
            "False\n"
          ]
        }
      ]
    },
    {
      "cell_type": "code",
      "source": [
        "# practical example\n",
        "age= 20\n",
        "has_license = True\n",
        "can_drive = age >= 18 and has_license\n",
        "print(f\"can drive: {can_drive}\")"
      ],
      "metadata": {
        "colab": {
          "base_uri": "https://localhost:8080/"
        },
        "id": "5sRCMQHowhne",
        "outputId": "a0c537ad-425d-4ada-deb8-6a52ef09d32c"
      },
      "execution_count": null,
      "outputs": [
        {
          "output_type": "stream",
          "name": "stdout",
          "text": [
            "can drive: True\n"
          ]
        }
      ]
    },
    {
      "cell_type": "code",
      "source": [
        "# multiple conditions\n",
        "score = 85\n",
        "is_present = True\n",
        "can_pass = score >= 80 and is_present\n",
        "print(f\" can pass: {can_pass}\")"
      ],
      "metadata": {
        "colab": {
          "base_uri": "https://localhost:8080/"
        },
        "id": "7Xs-qU9Xw8xG",
        "outputId": "8f4cac8e-6999-40c7-f99c-45e8e982e448"
      },
      "execution_count": null,
      "outputs": [
        {
          "output_type": "stream",
          "name": "stdout",
          "text": [
            " can pass: True\n"
          ]
        }
      ]
    },
    {
      "cell_type": "markdown",
      "source": [
        "create a calculator that checks if a person qualifies for a loan"
      ],
      "metadata": {
        "id": "I27xKHbDzm2n"
      }
    },
    {
      "cell_type": "code",
      "source": [
        "# personal information\n",
        "age = 20\n",
        "annual_income = 50000\n",
        "credit_score = 720\n",
        "has_collateral = True"
      ],
      "metadata": {
        "id": "2U5LhFOpy8vG"
      },
      "execution_count": null,
      "outputs": []
    },
    {
      "cell_type": "code",
      "source": [
        "# loan criteria\n",
        "min_age = 18\n",
        "min_income = 30000\n",
        "min_credit_score = 650"
      ],
      "metadata": {
        "id": "2dtrdkXBzTl-"
      },
      "execution_count": null,
      "outputs": []
    },
    {
      "cell_type": "code",
      "source": [
        "# check qualifications\n",
        "age_qualified = age >= min_age\n",
        "income_qualified = annual_income >= min_income\n",
        "credit_qualified = credit_score >= min_credit_score\n",
        "overall_qualified = age_qualified and income_qualified and credit_qualified"
      ],
      "metadata": {
        "id": "Ip4QBXV13Z0u"
      },
      "execution_count": null,
      "outputs": []
    },
    {
      "cell_type": "markdown",
      "source": [
        "Data structures"
      ],
      "metadata": {
        "id": "qn4Bk7yj-tjQ"
      }
    },
    {
      "cell_type": "markdown",
      "source": [
        "lists"
      ],
      "metadata": {
        "id": "QPWpc0B9-yz4"
      }
    },
    {
      "cell_type": "markdown",
      "source": [
        "creating list"
      ],
      "metadata": {
        "id": "M1T0I_el-1V_"
      }
    },
    {
      "cell_type": "code",
      "source": [
        "fruits = [\"apple\",\"banana\",\"mango\",\"pineapple\"]\n",
        "numbers = [10,90,80,60]\n",
        "mixed_data = [1,\"hello\",3.14,True]"
      ],
      "metadata": {
        "id": "DehegK_x-4Kf"
      },
      "execution_count": null,
      "outputs": []
    },
    {
      "cell_type": "markdown",
      "source": [
        "list indexing (O-based)"
      ],
      "metadata": {
        "id": "SDs15tPL_YIP"
      }
    },
    {
      "cell_type": "code",
      "source": [
        "print(f\"first fruit: {fruits[0]}\")\n",
        "print(f\"last fruit: {fruits[-1]}\")\n",
        "print(f\"second to last : {fruits[-2]}\")"
      ],
      "metadata": {
        "colab": {
          "base_uri": "https://localhost:8080/"
        },
        "id": "wGqLRWV2_fCA",
        "outputId": "59bdb1fd-4b03-454d-a6f6-5a45054ee46f"
      },
      "execution_count": null,
      "outputs": [
        {
          "output_type": "stream",
          "name": "stdout",
          "text": [
            "first fruit: apple\n",
            "last fruit: pineapple\n",
            "second to last : mango\n"
          ]
        }
      ]
    },
    {
      "cell_type": "markdown",
      "source": [
        "list slicing"
      ],
      "metadata": {
        "id": "VMAUmdqeAAJw"
      }
    },
    {
      "cell_type": "code",
      "source": [
        "print(f\"first 2nd fruit: {fruits[0:2]}\")\n",
        "print(f\"last 2nd fruit: {fruits[-2]}\")\n",
        "print(f\"all except first: {fruits[1]}\")"
      ],
      "metadata": {
        "colab": {
          "base_uri": "https://localhost:8080/"
        },
        "id": "CEGBClzfALw4",
        "outputId": "d435b564-8f16-4c62-cf53-c76e6b6768ed"
      },
      "execution_count": null,
      "outputs": [
        {
          "output_type": "stream",
          "name": "stdout",
          "text": [
            "first 2nd fruit: ['apple', 'banana']\n",
            "last 2nd fruit: mango\n",
            "all except first: banana\n"
          ]
        }
      ]
    },
    {
      "cell_type": "markdown",
      "source": [
        "list methods"
      ],
      "metadata": {
        "id": "x4xpDiotBAJA"
      }
    },
    {
      "cell_type": "code",
      "source": [
        "fruits.append(\"kiwi\")\n",
        "fruits.insert(1,\"grape\")\n",
        "print(fruits)\n",
        "removed = fruits.pop()\n",
        "print(f\"updated list: {fruits}\")\n",
        "print(f\"removed: {removed}\")"
      ],
      "metadata": {
        "colab": {
          "base_uri": "https://localhost:8080/"
        },
        "id": "2DiNe0qaBDlY",
        "outputId": "4b4a8f70-6c55-4965-9914-9c51f5c76dfa"
      },
      "execution_count": null,
      "outputs": [
        {
          "output_type": "stream",
          "name": "stdout",
          "text": [
            "['apple', 'grape', 'banana', 'mango', 'pineapple', 'kiwi']\n",
            "updated list: ['apple', 'grape', 'banana', 'mango', 'pineapple']\n",
            "removed: kiwi\n"
          ]
        }
      ]
    },
    {
      "cell_type": "markdown",
      "source": [
        "list operations"
      ],
      "metadata": {
        "id": "4HW4ZoxpB5eg"
      }
    },
    {
      "cell_type": "code",
      "source": [
        "print(f\"length: {len(fruits)}\")\n",
        "print(f\"contains 'apple': {'apple' in fruits}\")\n",
        "print(f\"index of 'banana': {fruits.index('banana')}\")"
      ],
      "metadata": {
        "colab": {
          "base_uri": "https://localhost:8080/"
        },
        "id": "HT2152jfB73v",
        "outputId": "c06b86c3-5af8-4ad6-9440-129d7bc0c3ee"
      },
      "execution_count": null,
      "outputs": [
        {
          "output_type": "stream",
          "name": "stdout",
          "text": [
            "length: 5\n",
            "contains 'apple': True\n",
            "index of 'banana': 2\n"
          ]
        }
      ]
    },
    {
      "cell_type": "markdown",
      "source": [
        "Tuples"
      ],
      "metadata": {
        "id": "1J3SVrRjDW14"
      }
    },
    {
      "cell_type": "code",
      "source": [],
      "metadata": {
        "id": "4CewWLX6DZBo"
      },
      "execution_count": null,
      "outputs": []
    },
    {
      "cell_type": "markdown",
      "source": [
        "tuples are immutable"
      ],
      "metadata": {
        "id": "r3GOrST6DaEf"
      }
    },
    {
      "cell_type": "code",
      "source": [
        "coordinates = (10,20)\n",
        "rgb_color = (223,128,0)\n",
        "person_info = (\"Alice\",25,\"BCA\",True)"
      ],
      "metadata": {
        "id": "plkOWWwMDeBH"
      },
      "execution_count": null,
      "outputs": []
    },
    {
      "cell_type": "markdown",
      "source": [
        "tuple unpacking"
      ],
      "metadata": {
        "id": "A8qIeYJLD1L3"
      }
    },
    {
      "cell_type": "code",
      "source": [
        "x, y = coordinates\n",
        "print(f\"X: {x}, Y: {y}\")"
      ],
      "metadata": {
        "colab": {
          "base_uri": "https://localhost:8080/"
        },
        "id": "47mEYHhvD3h4",
        "outputId": "df799dc4-011f-4f55-f057-f7cbdcbd4fc2"
      },
      "execution_count": null,
      "outputs": [
        {
          "output_type": "stream",
          "name": "stdout",
          "text": [
            "X: 10, Y: 20\n"
          ]
        }
      ]
    },
    {
      "cell_type": "markdown",
      "source": [
        "tuple methods"
      ],
      "metadata": {
        "id": "MYrX6eoiE79g"
      }
    },
    {
      "cell_type": "code",
      "source": [
        "print(f\" count of 25: {person_info.count(25)}\")\n",
        "print(f\" index of 'BCA': {person_info.index('BCA')}\")"
      ],
      "metadata": {
        "colab": {
          "base_uri": "https://localhost:8080/"
        },
        "id": "45bbbdanE-JH",
        "outputId": "38bba2f9-206f-4bb7-f967-544e51eedb26"
      },
      "execution_count": null,
      "outputs": [
        {
          "output_type": "stream",
          "name": "stdout",
          "text": [
            " count of 25: 1\n",
            " index of 'BCA': 2\n"
          ]
        }
      ]
    },
    {
      "cell_type": "markdown",
      "source": [
        "why we use tuples?\n",
        "- immutable(safe for dictionary keys)\n",
        "- slightly faster  than lists\n",
        "- good for fixed collections\n"
      ],
      "metadata": {
        "id": "s8BbGtIDFohA"
      }
    }
  ]
}