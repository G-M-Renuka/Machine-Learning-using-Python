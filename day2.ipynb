{
  "nbformat": 4,
  "nbformat_minor": 0,
  "metadata": {
    "colab": {
      "provenance": []
    },
    "kernelspec": {
      "name": "python3",
      "display_name": "Python 3"
    },
    "language_info": {
      "name": "python"
    }
  },
  "cells": [
    {
      "cell_type": "code",
      "execution_count": null,
      "metadata": {
        "id": "ZHZhJrQPEJ1-"
      },
      "outputs": [],
      "source": [
        "Date---31/7/2025"
      ]
    },
    {
      "cell_type": "markdown",
      "source": [
        "Dictionaries"
      ],
      "metadata": {
        "id": "iN2z2MMPEQkR"
      }
    },
    {
      "cell_type": "markdown",
      "source": [
        "Dictionary creation"
      ],
      "metadata": {
        "id": "BqfrOoJoETTw"
      }
    },
    {
      "cell_type": "code",
      "source": [
        "person = {\n",
        "    \"name\": \"Renu\",\n",
        "    \"age\": 20,\n",
        "    \"profession\": \"student\",\n",
        "    \"salary\": \"nope\",\n",
        "    \"skills\": [\"c++\",\"javascript\",\"python\",\"SQL\"]\n",
        "}"
      ],
      "metadata": {
        "id": "Z6Itfj1kEWrx"
      },
      "execution_count": null,
      "outputs": []
    },
    {
      "cell_type": "markdown",
      "source": [
        "Accessing values"
      ],
      "metadata": {
        "id": "1dhpCgkWFJYo"
      }
    },
    {
      "cell_type": "code",
      "source": [
        "print(f\"Name: {person['name']}\")\n",
        "print(f\"Age: {person.get('age','unknown')}\")"
      ],
      "metadata": {
        "colab": {
          "base_uri": "https://localhost:8080/"
        },
        "id": "GG0i7cUfFMDA",
        "outputId": "3247cdb2-f76c-411c-faa1-9e932d62a824"
      },
      "execution_count": null,
      "outputs": [
        {
          "output_type": "stream",
          "name": "stdout",
          "text": [
            "Name: Renu\n",
            "Age: 20\n"
          ]
        }
      ]
    },
    {
      "cell_type": "markdown",
      "source": [
        "Dictionary methods"
      ],
      "metadata": {
        "id": "YdN4GvoUFjtw"
      }
    },
    {
      "cell_type": "code",
      "source": [
        "print(f\"Keys: {list(person.keys())}\")\n",
        "print(f\"Values: {list(person.values())}\")\n",
        "print(f\"Items: {list(person.items())}\")"
      ],
      "metadata": {
        "colab": {
          "base_uri": "https://localhost:8080/"
        },
        "id": "gSmbcBhbFosZ",
        "outputId": "2dad337e-f80a-48a8-ae8e-af48fbef03ce"
      },
      "execution_count": null,
      "outputs": [
        {
          "output_type": "stream",
          "name": "stdout",
          "text": [
            "Keys: ['name', 'age', 'profession', 'salary', 'skills']\n",
            "Values: ['Renu', 20, 'student', 'nope', ['c++', 'javascript', 'python', 'SQL']]\n",
            "Items: [('name', 'Renu'), ('age', 20), ('profession', 'student'), ('salary', 'nope'), ('skills', ['c++', 'javascript', 'python', 'SQL'])]\n"
          ]
        }
      ]
    },
    {
      "cell_type": "markdown",
      "source": [
        "Adding/updating"
      ],
      "metadata": {
        "id": "jNFyouMWGCNA"
      }
    },
    {
      "cell_type": "code",
      "source": [
        "person[\"location\"] = \"Haveri\"\n",
        "person[\"salary\"] = \"nope\""
      ],
      "metadata": {
        "id": "O0qiksfcGGLo"
      },
      "execution_count": null,
      "outputs": []
    },
    {
      "cell_type": "markdown",
      "source": [
        "Practical use case: Inventory management"
      ],
      "metadata": {
        "id": "mbK0KUKpGbhR"
      }
    },
    {
      "cell_type": "code",
      "source": [
        "inventory ={\n",
        "    \"laptops\": {\n",
        "        \"quantity\": 50,\n",
        "        \"price\": 999.99\n",
        "    },\n",
        "    \"phones\": {\n",
        "        \"quantity\": 100,\n",
        "        \"price\": 599.99\n",
        "        },\n",
        "    \"tablets\": {\n",
        "        \"quantity\": 30,\n",
        "        \"price\": 399.99\n",
        "    }\n",
        "}"
      ],
      "metadata": {
        "id": "-iHugSXUGiQI"
      },
      "execution_count": null,
      "outputs": []
    },
    {
      "cell_type": "markdown",
      "source": [
        "Nested access"
      ],
      "metadata": {
        "id": "ourgheEQHMzw"
      }
    },
    {
      "cell_type": "code",
      "source": [
        "print(f\"Laptop price: ${inventory['laptops']['price']}\")"
      ],
      "metadata": {
        "colab": {
          "base_uri": "https://localhost:8080/"
        },
        "id": "JnUdkB7PHVwJ",
        "outputId": "b7c21497-9fad-4180-a9f8-f1178f510e73"
      },
      "execution_count": null,
      "outputs": [
        {
          "output_type": "stream",
          "name": "stdout",
          "text": [
            "Laptop price: $999.99\n"
          ]
        }
      ]
    },
    {
      "cell_type": "markdown",
      "source": [
        "Sets"
      ],
      "metadata": {
        "id": "PJBB8sNzHlG5"
      }
    },
    {
      "cell_type": "markdown",
      "source": [
        "Sets contain unique elements"
      ],
      "metadata": {
        "id": "4eFn9CmkHm7Y"
      }
    },
    {
      "cell_type": "code",
      "source": [
        "colors = {\"red\",\"blue\",\"black\",\"red\"}\n",
        "print(f\"Colors: {colors}\")"
      ],
      "metadata": {
        "colab": {
          "base_uri": "https://localhost:8080/"
        },
        "id": "-loPJ7aDHrg4",
        "outputId": "4f179592-89e9-4fba-fcea-186fadf3fd92"
      },
      "execution_count": null,
      "outputs": [
        {
          "output_type": "stream",
          "name": "stdout",
          "text": [
            "Colors: {'blue', 'red', 'black'}\n"
          ]
        }
      ]
    },
    {
      "cell_type": "markdown",
      "source": [
        "Set operations\n"
      ],
      "metadata": {
        "id": "SDeewvNPH-gZ"
      }
    },
    {
      "cell_type": "code",
      "source": [
        "team1_skills = {\"python\",\"javascript\",\"SQL\",\"react\"}\n",
        "team2_skills = {\"javascript\",\"SQL\",\"java\",\"spring\"}"
      ],
      "metadata": {
        "id": "Qg50dhMfIBXZ"
      },
      "execution_count": null,
      "outputs": []
    },
    {
      "cell_type": "markdown",
      "source": [
        "Common operations"
      ],
      "metadata": {
        "id": "6G5ARCOLKKkR"
      }
    },
    {
      "cell_type": "code",
      "source": [
        "print(f\"Common skills: {team1_skills.intersection(team2_skills)}\")\n",
        "print(f\"All skills: {team1_skills.union(team2_skills)}\")\n",
        "print(f\"Team1 only: {team1_skills.difference(team2_skills)}\")"
      ],
      "metadata": {
        "colab": {
          "base_uri": "https://localhost:8080/"
        },
        "id": "ctzNYCjRKNRR",
        "outputId": "50db8983-06b9-4697-b0e5-afa327535dc3"
      },
      "execution_count": null,
      "outputs": [
        {
          "output_type": "stream",
          "name": "stdout",
          "text": [
            "Common skills: {'SQL', 'javascript'}\n",
            "All skills: {'SQL', 'python', 'react', 'javascript', 'spring', 'java'}\n",
            "Team1 only: {'python', 'react'}\n"
          ]
        }
      ]
    },
    {
      "cell_type": "markdown",
      "source": [
        "Adding to sets"
      ],
      "metadata": {
        "id": "YJBcSGPsLIsa"
      }
    },
    {
      "cell_type": "code",
      "source": [
        "colors.add(\"yellow\")\n",
        "colors.update([\"purple\",\"orange\"])\n",
        "print(colors)\n",
        "print(f\"Updated colors: {colors}\")"
      ],
      "metadata": {
        "colab": {
          "base_uri": "https://localhost:8080/"
        },
        "id": "Op-zk9cZLLP6",
        "outputId": "04ba00c2-96b5-40fc-b21c-036ec79a1c0c"
      },
      "execution_count": null,
      "outputs": [
        {
          "output_type": "stream",
          "name": "stdout",
          "text": [
            "{'yellow', 'black', 'purple', 'blue', 'orange', 'red'}\n",
            "Updated colors: {'yellow', 'black', 'purple', 'blue', 'orange', 'red'}\n"
          ]
        }
      ]
    },
    {
      "cell_type": "markdown",
      "source": [
        "Control Flow"
      ],
      "metadata": {
        "id": "FcFcLaq3M_4i"
      }
    },
    {
      "cell_type": "markdown",
      "source": [
        "Conditional Statements"
      ],
      "metadata": {
        "id": "Q6tWBeqeNFhi"
      }
    },
    {
      "cell_type": "markdown",
      "source": [
        "Basic if-else"
      ],
      "metadata": {
        "id": "ypjxgZUpNNdq"
      }
    },
    {
      "cell_type": "code",
      "source": [
        "def get_grade_letter(score):\n",
        "  if score >= 90:\n",
        "    return \"A\"\n",
        "  elif score >= 80:\n",
        "    return \"B\"\n",
        "  elif score >= 70:\n",
        "    return \"C\"\n",
        "  elif score >= 60:\n",
        "    return \"D\"\n",
        "  else:\n",
        "    return \"F\"\n"
      ],
      "metadata": {
        "id": "_IOJPJjNNRfK"
      },
      "execution_count": null,
      "outputs": []
    },
    {
      "cell_type": "code",
      "source": [
        "test_scores = [95,83,72,65,58]\n",
        "for score in test_scores:\n",
        "  grade = get_grade_letter(score)\n",
        "  print(f\"Score {score}: Grade {grade}\")"
      ],
      "metadata": {
        "colab": {
          "base_uri": "https://localhost:8080/"
        },
        "id": "yJrBbjCNOhnD",
        "outputId": "c32fd262-d373-4007-b1b8-79864c2604ba"
      },
      "execution_count": null,
      "outputs": [
        {
          "output_type": "stream",
          "name": "stdout",
          "text": [
            "Score 95: Grade A\n",
            "Score 83: Grade B\n",
            "Score 72: Grade C\n",
            "Score 65: Grade D\n",
            "Score 58: Grade F\n"
          ]
        }
      ]
    },
    {
      "cell_type": "markdown",
      "source": [
        "Nested conditions"
      ],
      "metadata": {
        "id": "W709RN6sQkvS"
      }
    },
    {
      "cell_type": "code",
      "source": [
        "def get_shipping_cost(weight,distance):\n",
        "  base_count = 5.8\n",
        "\n",
        "  if weight <= 1:\n",
        "    weight_cost = 2.0\n",
        "  elif weight <= 5:\n",
        "    weight_cost = 5.0\n",
        "  else:\n",
        "    weight_cost = 10.0\n",
        "\n",
        "  if distance <= 100:\n",
        "    distance_cost = 1.0\n",
        "  elif distance <= 500:\n",
        "    distance_cost = 3.0\n",
        "  else:\n",
        "    distance_cost = 7.0\n",
        "  return base_count + weight_cost + distance_cost\n"
      ],
      "metadata": {
        "id": "02lgU08OQnEC"
      },
      "execution_count": null,
      "outputs": []
    },
    {
      "cell_type": "markdown",
      "source": [
        "Test shipping costs"
      ],
      "metadata": {
        "id": "cwaM0zSkSNEj"
      }
    },
    {
      "cell_type": "code",
      "source": [
        "print(f\"Light, close: ${get_shipping_cost(0.5,50)}\")\n",
        "print(f\"Heavy, far: ${get_shipping_cost(10,800)}\")"
      ],
      "metadata": {
        "colab": {
          "base_uri": "https://localhost:8080/"
        },
        "id": "9_GSgKY-SjBU",
        "outputId": "cdd529ad-b2a0-4f61-faa8-aa3a8d0967bc"
      },
      "execution_count": null,
      "outputs": [
        {
          "output_type": "stream",
          "name": "stdout",
          "text": [
            "Light, close: $8.8\n",
            "Heavy, far: $22.8\n"
          ]
        }
      ]
    },
    {
      "cell_type": "markdown",
      "source": [
        "Loops-For loop"
      ],
      "metadata": {
        "id": "2MP5X2u1WEwc"
      }
    },
    {
      "cell_type": "markdown",
      "source": [
        "Basic for loop"
      ],
      "metadata": {
        "id": "DSlJhdMYWJwk"
      }
    },
    {
      "cell_type": "code",
      "source": [
        "fruits = [\"apple\",\"banana\",\"grape\",\"orange\"]\n",
        "for  fruit in fruits:\n",
        "  print(f\"I like {fruit}\")"
      ],
      "metadata": {
        "colab": {
          "base_uri": "https://localhost:8080/"
        },
        "id": "G1JtJg8dWUXV",
        "outputId": "11286bb7-401e-43f7-ca05-fddd34f61ea9"
      },
      "execution_count": null,
      "outputs": [
        {
          "output_type": "stream",
          "name": "stdout",
          "text": [
            "I like apple\n",
            "I like banana\n",
            "I like grape\n",
            "I like orange\n"
          ]
        }
      ]
    },
    {
      "cell_type": "markdown",
      "source": [
        "Loop with enumerate (get index)"
      ],
      "metadata": {
        "id": "Thq-dTxiW648"
      }
    },
    {
      "cell_type": "code",
      "source": [
        "for i, fruit in enumerate(fruits):\n",
        "  print(f\"{i+1}. {fruit}\")"
      ],
      "metadata": {
        "colab": {
          "base_uri": "https://localhost:8080/"
        },
        "id": "8bbYqJRvXRWl",
        "outputId": "3b1bbe13-26ca-45c9-e321-21433b3b4183"
      },
      "execution_count": null,
      "outputs": [
        {
          "output_type": "stream",
          "name": "stdout",
          "text": [
            "1. apple\n",
            "2. banana\n",
            "3. grape\n",
            "4. orange\n"
          ]
        }
      ]
    },
    {
      "cell_type": "markdown",
      "source": [
        "Loop with range"
      ],
      "metadata": {
        "id": "bkemTvZTXlyU"
      }
    },
    {
      "cell_type": "code",
      "source": [
        "for day in range(1,8):\n",
        "  print(f\"Day {day} of the week\")"
      ],
      "metadata": {
        "colab": {
          "base_uri": "https://localhost:8080/"
        },
        "id": "9lGB5UTQXqMN",
        "outputId": "1a773503-11b7-4a98-ead6-4e9bdf3ca5e8"
      },
      "execution_count": null,
      "outputs": [
        {
          "output_type": "stream",
          "name": "stdout",
          "text": [
            "Day 1 of the week\n",
            "Day 2 of the week\n",
            "Day 3 of the week\n",
            "Day 4 of the week\n",
            "Day 5 of the week\n",
            "Day 6 of the week\n",
            "Day 7 of the week\n"
          ]
        }
      ]
    },
    {
      "cell_type": "markdown",
      "source": [
        "Nested loops-Creating a multiplication table"
      ],
      "metadata": {
        "id": "j4RpJyHXYR2F"
      }
    },
    {
      "cell_type": "code",
      "source": [
        "print(\"Multiplication table:\")\n",
        "for i in range(1,6):\n",
        "  for j in range(1,6):\n",
        "    product = i*j\n",
        "    print(f\"{i} X {j} = {product:2d}\",end=\" \")\n",
        "    print()"
      ],
      "metadata": {
        "colab": {
          "base_uri": "https://localhost:8080/"
        },
        "id": "HadV07utYaR9",
        "outputId": "c2cd1652-b97e-4447-962f-05410595e4c7"
      },
      "execution_count": null,
      "outputs": [
        {
          "output_type": "stream",
          "name": "stdout",
          "text": [
            "Multiplication table:\n",
            "1 X 1 =  1 \n",
            "1 X 2 =  2 \n",
            "1 X 3 =  3 \n",
            "1 X 4 =  4 \n",
            "1 X 5 =  5 \n",
            "2 X 1 =  2 \n",
            "2 X 2 =  4 \n",
            "2 X 3 =  6 \n",
            "2 X 4 =  8 \n",
            "2 X 5 = 10 \n",
            "3 X 1 =  3 \n",
            "3 X 2 =  6 \n",
            "3 X 3 =  9 \n",
            "3 X 4 = 12 \n",
            "3 X 5 = 15 \n",
            "4 X 1 =  4 \n",
            "4 X 2 =  8 \n",
            "4 X 3 = 12 \n",
            "4 X 4 = 16 \n",
            "4 X 5 = 20 \n",
            "5 X 1 =  5 \n",
            "5 X 2 = 10 \n",
            "5 X 3 = 15 \n",
            "5 X 4 = 20 \n",
            "5 X 5 = 25 \n"
          ]
        }
      ]
    },
    {
      "cell_type": "markdown",
      "source": [
        "Processing data with loops"
      ],
      "metadata": {
        "id": "ppmAyBDUZTIF"
      }
    },
    {
      "cell_type": "code",
      "source": [
        "sales_data = [\n",
        "    {\"product\": \"laptop\",\"price\": 999, \"quantity\": 50},\n",
        "    {\"product\": \"phone\",\"price\": 599, \"quantity\": 100},\n",
        "    {\"product\": \"tablet\",\"price\": 399, \"quantity\": 30}\n",
        "]\n",
        "\n",
        "total_revenue = 0\n",
        "\n",
        "for item in sales_data:\n",
        "  item_revenue = item[\"price\"] * item[\"quantity\"]\n",
        "  total_revenue += item_revenue\n",
        "  print(f\"{item['product']}: ${item_revenue}\")\n",
        "\n",
        "  print(f\"Total Revenue: ${total_revenue}\")"
      ],
      "metadata": {
        "id": "dOlFsrezZWUN",
        "colab": {
          "base_uri": "https://localhost:8080/"
        },
        "outputId": "21420d94-b704-42b6-ed5a-220493098edc"
      },
      "execution_count": null,
      "outputs": [
        {
          "output_type": "stream",
          "name": "stdout",
          "text": [
            "laptop: $49950\n",
            "Total Revenue: $49950\n",
            "phone: $59900\n",
            "Total Revenue: $109850\n",
            "tablet: $11970\n",
            "Total Revenue: $121820\n"
          ]
        }
      ]
    },
    {
      "cell_type": "markdown",
      "source": [
        "Loops - While loop"
      ],
      "metadata": {
        "id": "XFSaCQkst50x"
      }
    },
    {
      "cell_type": "markdown",
      "source": [
        "While loop for user input simulation"
      ],
      "metadata": {
        "id": "UCS3UvC8uJrS"
      }
    },
    {
      "cell_type": "code",
      "source": [
        "def simple_guessing_game():\n",
        "  target = 7\n",
        "  guess =0\n",
        "  attempts = 0\n",
        "  print(\"guess the number between 1 and 10\")\n",
        "\n",
        "  while guess != target:\n",
        "\n",
        "    import random\n",
        "    guess = random.randint(1,10)\n",
        "    attempts += 1\n",
        "\n",
        "    if guess < target:\n",
        "      print(f\"Guess {attempts}: {guess} - Too low!\")\n",
        "    elif guess > target:\n",
        "      print(f\"Guess {attempts}: {guess} - Too high!\")\n",
        "    else:\n",
        "      print(f\"Guess {attempts}: {guess} - correct!\")\n",
        "\n",
        "      if attempts > 10:\n",
        "        print(\"Max attempts reached!!\")\n",
        "        break\n",
        "\n",
        "  print(f\"Game finished in {attempts} atempts\")\n",
        "\n",
        "simple_guessing_game()\n",
        "\n"
      ],
      "metadata": {
        "colab": {
          "base_uri": "https://localhost:8080/"
        },
        "id": "PZddzO5TuQUp",
        "outputId": "9190c277-29a4-4b13-cc2c-88f45c2ac8ea"
      },
      "execution_count": null,
      "outputs": [
        {
          "output_type": "stream",
          "name": "stdout",
          "text": [
            "guess the number between 1 and 10\n",
            "Guess 1: 3 - Too low!\n",
            "Guess 2: 1 - Too low!\n",
            "Guess 3: 9 - Too high!\n",
            "Guess 4: 5 - Too low!\n",
            "Guess 5: 2 - Too low!\n",
            "Guess 6: 5 - Too low!\n",
            "Guess 7: 7 - correct!\n",
            "Game finished in 7 atempts\n"
          ]
        }
      ]
    },
    {
      "cell_type": "code",
      "source": [],
      "metadata": {
        "id": "hoS49wfut9Th"
      },
      "execution_count": null,
      "outputs": []
    },
    {
      "cell_type": "markdown",
      "source": [
        "while loop for processinf"
      ],
      "metadata": {
        "id": "B2rEbp0cyv2z"
      }
    },
    {
      "cell_type": "code",
      "source": [
        "def process_queue():\n",
        "  queue = [\"Task 1\", \"Task 2\",\"Task 3\",\"Task 4\"]\n",
        "\n",
        "  while queue:\n",
        "    current_task = queue.pop(0)\n",
        "    print(f\"Processing: {current_task}\")\n",
        "\n",
        "    print(f\"Remaining tasks: {len(queue)}\")\n",
        "\n",
        "  print(\"All tasks comleted!\")\n",
        "\n",
        "process_queue()"
      ],
      "metadata": {
        "colab": {
          "base_uri": "https://localhost:8080/"
        },
        "id": "o1saGE6-yyxT",
        "outputId": "bf8c7631-ccc7-4f5e-e7ac-0eb2b33c02e3"
      },
      "execution_count": null,
      "outputs": [
        {
          "output_type": "stream",
          "name": "stdout",
          "text": [
            "Processing: Task 1\n",
            "Remaining tasks: 3\n",
            "Processing: Task 2\n",
            "Remaining tasks: 2\n",
            "Processing: Task 3\n",
            "Remaining tasks: 1\n",
            "Processing: Task 4\n",
            "Remaining tasks: 0\n",
            "All tasks comleted!\n"
          ]
        }
      ]
    },
    {
      "cell_type": "markdown",
      "source": [
        "Function basics"
      ],
      "metadata": {
        "id": "2RXhtVaZ1VAD"
      }
    },
    {
      "cell_type": "markdown",
      "source": [
        "basic function definition"
      ],
      "metadata": {
        "id": "oI-y0KIQ1ZXL"
      }
    },
    {
      "cell_type": "code",
      "source": [
        "def greet(name):\n",
        "  return f\"Hello,{name}!\""
      ],
      "metadata": {
        "id": "S6chqvsA1i7L"
      },
      "execution_count": null,
      "outputs": []
    },
    {
      "cell_type": "markdown",
      "source": [
        "function call                                      "
      ],
      "metadata": {
        "id": "Z57LffdB1vL7"
      }
    },
    {
      "cell_type": "code",
      "source": [
        "message = greet(\"renuka\")\n",
        "print(message)"
      ],
      "metadata": {
        "colab": {
          "base_uri": "https://localhost:8080/"
        },
        "id": "7DZ9ImS02NXT",
        "outputId": "be66704a-8af2-4c2c-9a93-f298ab9348d3"
      },
      "execution_count": null,
      "outputs": [
        {
          "output_type": "stream",
          "name": "stdout",
          "text": [
            "Hello,renuka!\n"
          ]
        }
      ]
    },
    {
      "cell_type": "markdown",
      "source": [
        "function with multiple parameters"
      ],
      "metadata": {
        "id": "5uNwbUh92W1T"
      }
    },
    {
      "cell_type": "code",
      "source": [
        "def calculate_area(length,width):\n",
        "  area = length * width\n",
        "  return area"
      ],
      "metadata": {
        "id": "w52Sd3uJ2iv8"
      },
      "execution_count": null,
      "outputs": []
    },
    {
      "cell_type": "markdown",
      "source": [
        "Test the function"
      ],
      "metadata": {
        "id": "lHwb5MxS23Dk"
      }
    },
    {
      "cell_type": "code",
      "source": [
        "room_area = calculate_area(12,10)\n",
        "print(f\"room area: {room_area} square feet\")"
      ],
      "metadata": {
        "colab": {
          "base_uri": "https://localhost:8080/"
        },
        "id": "sZ-4vMJu26Az",
        "outputId": "9a45c3a8-c68d-4e1f-eab0-9286e1bfde6d"
      },
      "execution_count": null,
      "outputs": [
        {
          "output_type": "stream",
          "name": "stdout",
          "text": [
            "room area: 120 square feet\n"
          ]
        }
      ]
    },
    {
      "cell_type": "markdown",
      "source": [
        "function with default parameters"
      ],
      "metadata": {
        "id": "UfPRMChk3NQU"
      }
    },
    {
      "cell_type": "code",
      "source": [
        "def create_user_profile(name,age = 20,location=\"unknown\",active= True):\n",
        "  return {\n",
        "    \"name\": name,\n",
        "    \"age\": age,\n",
        "    \"location\": location,\n",
        "    \"active\": active\n",
        "}"
      ],
      "metadata": {
        "id": "Bz8cUl9g3SL7"
      },
      "execution_count": null,
      "outputs": []
    },
    {
      "cell_type": "markdown",
      "source": [
        "Different ways to call"
      ],
      "metadata": {
        "id": "ZO6RYZVX4uWc"
      }
    },
    {
      "cell_type": "code",
      "source": [
        "profile1 = create_user_profile(\"Alice\")\n",
        "profile2 = create_user_profile(\"Bob\",25)\n",
        "profile3 = create_user_profile(\"Charlie\",location=\"Delhi\",age=30)\n",
        "print(profile1)\n",
        "print(profile2)\n",
        "print(profile3)"
      ],
      "metadata": {
        "colab": {
          "base_uri": "https://localhost:8080/"
        },
        "id": "JHLnxGy14zvM",
        "outputId": "5a5077c9-050a-44bd-922f-99b4b0a79ce4"
      },
      "execution_count": null,
      "outputs": [
        {
          "output_type": "stream",
          "name": "stdout",
          "text": [
            "{'name': 'Alice', 'age': 20, 'location': 'unknown', 'active': True}\n",
            "{'name': 'Bob', 'age': 25, 'location': 'unknown', 'active': True}\n",
            "{'name': 'Charlie', 'age': 30, 'location': 'Delhi', 'active': True}\n"
          ]
        }
      ]
    },
    {
      "cell_type": "markdown",
      "source": [
        "Advanced function concepts"
      ],
      "metadata": {
        "id": "MvRY4ph98gsd"
      }
    },
    {
      "cell_type": "markdown",
      "source": [
        "Function returning multiple values"
      ],
      "metadata": {
        "id": "8xu-AbFe8k0m"
      }
    },
    {
      "cell_type": "code",
      "source": [
        "def analyze_text(text):\n",
        "  words = text.split()\n",
        "  word_count = len(words)\n",
        "  char_count = len(text)\n",
        "  char_count_no_spaces = len(text.replace(\" \",\" \"))\n",
        "\n",
        "  return word_count,char_count,char_count_no_spaces"
      ],
      "metadata": {
        "id": "Br1vlJjy8rzE"
      },
      "execution_count": null,
      "outputs": []
    },
    {
      "cell_type": "markdown",
      "source": [
        "Test with sample text"
      ],
      "metadata": {
        "id": "6bfz9HJl9Wit"
      }
    },
    {
      "cell_type": "code",
      "source": [
        "sample_text =\"python is a powerful programming language\"\n",
        "\n",
        "words,chars,chars_no_space =analyze_text(sample_text)\n",
        "\n",
        "print(sample_text)\n",
        "print(words)\n",
        "print(chars)\n",
        "print(chars_no_space)"
      ],
      "metadata": {
        "colab": {
          "base_uri": "https://localhost:8080/"
        },
        "id": "mjOe6kJ59b6e",
        "outputId": "de2d4804-a19b-4565-c4b5-87670683591e"
      },
      "execution_count": null,
      "outputs": [
        {
          "output_type": "stream",
          "name": "stdout",
          "text": [
            "python is a powerful programming language\n",
            "6\n",
            "41\n",
            "41\n"
          ]
        }
      ]
    },
    {
      "cell_type": "markdown",
      "source": [
        "variable-length arguments"
      ],
      "metadata": {
        "id": "HN0dswij-qHO"
      }
    },
    {
      "cell_type": "code",
      "source": [
        "def calculate_average(*numbers):\n",
        "  if not numbers:\n",
        "    return 0\n",
        "\n",
        "  return sum(numbers) / len(numbers)"
      ],
      "metadata": {
        "id": "l_CxjV_1-3Qu"
      },
      "execution_count": null,
      "outputs": []
    },
    {
      "cell_type": "markdown",
      "source": [
        "test with different numbers of arguments"
      ],
      "metadata": {
        "id": "ORSFsEsC_Vze"
      }
    },
    {
      "cell_type": "code",
      "source": [
        "avg1 = calculate_average(10,20,30)\n",
        "avg2 = calculate_average(5,15,25,35,45)\n",
        "avg3 = calculate_average(100)\n",
        "\n",
        "print(avg1)\n",
        "print(avg2)\n",
        "print(avg3)"
      ],
      "metadata": {
        "colab": {
          "base_uri": "https://localhost:8080/"
        },
        "id": "5m5CZ3bx_bkG",
        "outputId": "59b4786f-c976-4d36-94ef-3e63239b5317"
      },
      "execution_count": null,
      "outputs": [
        {
          "output_type": "stream",
          "name": "stdout",
          "text": [
            "20.0\n",
            "25.0\n",
            "100.0\n"
          ]
        }
      ]
    },
    {
      "cell_type": "markdown",
      "source": [
        "Keyword arguments"
      ],
      "metadata": {
        "id": "HKI-YKU8BESu"
      }
    },
    {
      "cell_type": "code",
      "source": [
        "def create_report(**data):\n",
        "  print(\"===REPORT===\")\n",
        "\n",
        "  for key, value in data.items():\n",
        "    print(f\"{key.replace('_',' ').title()}: {value}\")\n",
        "\n",
        "  print(\"=========\")\n",
        "\n",
        "create_report(\n",
        "     title=\"monthly sales report\",\n",
        "     date=\"2025-01-01\",\n",
        "     total_sales=15000,\n",
        "     new_customers=25,\n",
        "     returning_customers=150\n",
        " )"
      ],
      "metadata": {
        "colab": {
          "base_uri": "https://localhost:8080/"
        },
        "id": "EImBTkb1BHD2",
        "outputId": "e479dd20-090f-44a6-e9ae-aaa374fc7d3b"
      },
      "execution_count": null,
      "outputs": [
        {
          "output_type": "stream",
          "name": "stdout",
          "text": [
            "===REPORT===\n",
            "Title: monthly sales report\n",
            "Date: 2025-01-01\n",
            "Total Sales: 15000\n",
            "New Customers: 25\n",
            "Returning Customers: 150\n",
            "=========\n"
          ]
        }
      ]
    },
    {
      "cell_type": "markdown",
      "source": [
        "Lambda Functions"
      ],
      "metadata": {
        "id": "UmJu4E2sC1lW"
      }
    },
    {
      "cell_type": "markdown",
      "source": [
        "Lambda functions(anonymous functions)\n"
      ],
      "metadata": {
        "id": "dg8LrrHxDByH"
      }
    },
    {
      "cell_type": "markdown",
      "source": [
        "Regular function"
      ],
      "metadata": {
        "id": "HrqJOjwnDMfv"
      }
    },
    {
      "cell_type": "code",
      "source": [
        "def square(x):\n",
        "  return x ** 2"
      ],
      "metadata": {
        "id": "y-Q_AtqhDPP3"
      },
      "execution_count": null,
      "outputs": []
    },
    {
      "cell_type": "markdown",
      "source": [
        "Lambda Equivalent"
      ],
      "metadata": {
        "id": "R1hExfflFKiP"
      }
    },
    {
      "cell_type": "code",
      "source": [
        "square_lambda = lambda x: x ** 2\n",
        "print(f\"Regular function: {square(5)}\")\n",
        "print(f\"lambda function: {square_lambda(5)}\")"
      ],
      "metadata": {
        "colab": {
          "base_uri": "https://localhost:8080/"
        },
        "id": "oYDFHssOFOA_",
        "outputId": "83c5d12f-6e4d-4af3-9b8a-70e9d962e70b"
      },
      "execution_count": null,
      "outputs": [
        {
          "output_type": "stream",
          "name": "stdout",
          "text": [
            "Regular function: 25\n",
            "lambda function: 25\n"
          ]
        }
      ]
    },
    {
      "cell_type": "markdown",
      "source": [
        "Lambda with multiple arguments"
      ],
      "metadata": {
        "id": "_YXUbtOJGnzv"
      }
    },
    {
      "cell_type": "code",
      "source": [
        "multiply = lambda x,y: x * y\n",
        "print(f\"Multiply: {multiply(3,4)}\")"
      ],
      "metadata": {
        "colab": {
          "base_uri": "https://localhost:8080/"
        },
        "id": "47Cf0710GsQP",
        "outputId": "2cd1e72e-6805-4dc3-de56-6ea3d4fdea4b"
      },
      "execution_count": null,
      "outputs": [
        {
          "output_type": "stream",
          "name": "stdout",
          "text": [
            "Multiply: 12\n"
          ]
        }
      ]
    },
    {
      "cell_type": "markdown",
      "source": [
        "Lambda with built-in functions"
      ],
      "metadata": {
        "id": "ue_oVEi_G9Kv"
      }
    },
    {
      "cell_type": "code",
      "source": [
        "numbers = [1,2,3,4,5]\n",
        "squared = list(map(lambda x: x **2,numbers))\n",
        "print(f\"Squared numbers: {squared}\")"
      ],
      "metadata": {
        "colab": {
          "base_uri": "https://localhost:8080/"
        },
        "id": "c0JIvCCHHZfQ",
        "outputId": "32d8b587-68c6-4834-a867-2670714304b1"
      },
      "execution_count": null,
      "outputs": [
        {
          "output_type": "stream",
          "name": "stdout",
          "text": [
            "Squared numbers: [1, 4, 9, 16, 25]\n"
          ]
        }
      ]
    },
    {
      "cell_type": "markdown",
      "source": [
        "filtering with lambda"
      ],
      "metadata": {
        "id": "lr84teVFH2o4"
      }
    },
    {
      "cell_type": "code",
      "source": [
        "ages = [18,35,12,27,76,64,23,14,]\n",
        "adults = list(filter(lambda age: age >= 18, ages))\n",
        "print(f\"Adult ages: {adults}\")"
      ],
      "metadata": {
        "colab": {
          "base_uri": "https://localhost:8080/"
        },
        "id": "n2idmkgDH7KQ",
        "outputId": "ea46b839-b6c3-46f0-8017-1504db89cc2c"
      },
      "execution_count": null,
      "outputs": [
        {
          "output_type": "stream",
          "name": "stdout",
          "text": [
            "Adult ages: [18, 35, 27, 76, 64, 23]\n"
          ]
        }
      ]
    },
    {
      "cell_type": "markdown",
      "source": [
        "Sorting with lambda"
      ],
      "metadata": {
        "id": "_6iRI1oGIfOg"
      }
    },
    {
      "cell_type": "code",
      "source": [
        "people = [\n",
        "    {\"name\": \"Alice\",\"age\": 30},\n",
        "    {\"name\": \"Bob\",\"age\": 25},\n",
        "    {\"name\": \"Charlie\",\"age\": 35}\n",
        "]\n",
        "sorted_people = sorted(\n",
        "    people,\n",
        "    key=lambda person: person[\"age\"])\n",
        "print(\"people sorted by age:\")\n",
        "\n",
        "\n",
        "for person in sorted_people:\n",
        "  print(f\"{person['name']}: {person['age']}\")"
      ],
      "metadata": {
        "colab": {
          "base_uri": "https://localhost:8080/"
        },
        "id": "ArKBXURKIjh4",
        "outputId": "82c307e6-f2d9-46cb-991d-02d66c289788"
      },
      "execution_count": null,
      "outputs": [
        {
          "output_type": "stream",
          "name": "stdout",
          "text": [
            "people sorted by age:\n",
            "Bob: 25\n",
            "Alice: 30\n",
            "Charlie: 35\n"
          ]
        }
      ]
    }
  ]
}